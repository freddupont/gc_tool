{
 "cells": [
  {
   "cell_type": "markdown",
   "metadata": {},
   "source": [
    "# Calculs de RDM simples"
   ]
  },
  {
   "cell_type": "code",
   "execution_count": 25,
   "metadata": {},
   "outputs": [],
   "source": [
    "from ipywidgets import interact, widgets\n",
    "from pprint import pprint\n",
    "\n"
   ]
  },
  {
   "cell_type": "markdown",
   "metadata": {},
   "source": [
    "## Pour une poutre recherche des valeurs extrèmes moment et effort tranchant (M,V)"
   ]
  },
  {
   "cell_type": "code",
   "execution_count": 89,
   "metadata": {},
   "outputs": [],
   "source": [
    "#definition des fonctions de bases\n",
    "def poutre_bi_articule(L,q,P):\n",
    "    R=q*L/2+P/2\n",
    "    M_max=q*L**2/8+P*L/4\n",
    "    V_max=q*L*2+P/2\n",
    "    return (locals())\n",
    "def poutre_bi_encastre(L,q,P):\n",
    "    R=q*L/2+P/2\n",
    "    M_max=q*L**2/12+P*L/8\n",
    "    V_max=q*L*2+P/2\n",
    "    return (locals())\n",
    "def poutre_porte_a_faux(L,q,P):\n",
    "    R=q*L+P\n",
    "    M_max=q*L**2/2+P*L\n",
    "    V_max=q*L*P\n",
    "    return (locals())\n"
   ]
  },
  {
   "cell_type": "code",
   "execution_count": 90,
   "metadata": {},
   "outputs": [],
   "source": [
    "def poutre(Type,L,q,P):\n",
    "    \"\"\"\n",
    "    Calcul des valeurs maximums pour différents type de poutre d'après les formules RDM de base\n",
    "    Attention aux unités elles doivent etre cohérente \n",
    "    \n",
    "    :param L: Longueur de la poutre (m)\n",
    "    :param q: charge répartie appliqué sur la poutre (kN/m)\n",
    "    :param q: charge ponctuel appliqué au point le plus défavorable (kN)\n",
    "    \n",
    "    :return: ensemble des valeurs de calcul\n",
    "    \"\"\"\n",
    "    return (Type(L,q,P))\n",
    "optiondict={\n",
    "    \"bi-encastré\":poutre_bi_encastre,\n",
    "    \"bi-articulé\":poutre_bi_articule,\n",
    "    \"porte-à-faux\":poutre_porte_a_faux\n",
    "}"
   ]
  },
  {
   "cell_type": "code",
   "execution_count": 91,
   "metadata": {},
   "outputs": [
    {
     "name": "stdout",
     "output_type": "stream",
     "text": [
      "\n",
      "    Calcul des valeurs maximums pour différents type de poutre d'après les formules RDM de Base\n",
      "    Attention aux unités elles doivent etre cohérente \n",
      "    \n",
      "    :param L: Longueur de la poutre (m)\n",
      "    :param q: charge répartie appliqué sur la poutre (kN/m)\n",
      "    :param q: charge ponctuel appliqué au point le plus défavorable (kN)\n",
      "    \n",
      "    :return: ensemble des valeurs de calcul\n",
      "    \n"
     ]
    },
    {
     "data": {
      "application/vnd.jupyter.widget-view+json": {
       "model_id": "4cbb1462041347209f8cf316ddf4550f",
       "version_major": 2,
       "version_minor": 0
      },
      "text/html": [
       "<p>Failed to display Jupyter Widget of type <code>interactive</code>.</p>\n",
       "<p>\n",
       "  If you're reading this message in the Jupyter Notebook or JupyterLab Notebook, it may mean\n",
       "  that the widgets JavaScript is still loading. If this message persists, it\n",
       "  likely means that the widgets JavaScript library is either not installed or\n",
       "  not enabled. See the <a href=\"https://ipywidgets.readthedocs.io/en/stable/user_install.html\">Jupyter\n",
       "  Widgets Documentation</a> for setup instructions.\n",
       "</p>\n",
       "<p>\n",
       "  If you're reading this message in another frontend (for example, a static\n",
       "  rendering on GitHub or <a href=\"https://nbviewer.jupyter.org/\">NBViewer</a>),\n",
       "  it may mean that your frontend doesn't currently support widgets.\n",
       "</p>\n"
      ],
      "text/plain": [
       "interactive(children=(Select(description='Type', options={'bi-encastré': <function poutre_bi_encastre at 0x0000000006417158>, 'bi-articulé': <function poutre_bi_articule at 0x00000000064170D0>, 'porte-à-faux': <function poutre_porte_a_faux at 0x00000000064171E0>}, value=<function poutre_bi_encastre at 0x0000000006417158>), FloatText(value=7.5, description='L'), FloatText(value=35.0, description='q'), FloatText(value=0.0, description='P'), Output()), _dom_classes=('widget-interact',))"
      ]
     },
     "metadata": {},
     "output_type": "display_data"
    },
    {
     "data": {
      "text/plain": [
       "<function __main__.poutre>"
      ]
     },
     "execution_count": 91,
     "metadata": {},
     "output_type": "execute_result"
    }
   ],
   "source": [
    "print (poutre.__doc__)\n",
    "interact(poutre,\n",
    "         Type=widgets.Select(options=optiondict),\n",
    "         L=widgets.FloatText(value=7.5),\n",
    "         q=widgets.FloatText(value=35),\n",
    "         P=widgets.FloatText(value=0)\n",
    "        )"
   ]
  },
  {
   "cell_type": "markdown",
   "metadata": {},
   "source": [
    "## Pour une dalle recherche des valeurs extrèmes moment (M,V)"
   ]
  },
  {
   "cell_type": "code",
   "execution_count": null,
   "metadata": {},
   "outputs": [],
   "source": []
  }
 ],
 "metadata": {
  "kernelspec": {
   "display_name": "Python 3",
   "language": "python",
   "name": "python3"
  },
  "language_info": {
   "codemirror_mode": {
    "name": "ipython",
    "version": 3
   },
   "file_extension": ".py",
   "mimetype": "text/x-python",
   "name": "python",
   "nbconvert_exporter": "python",
   "pygments_lexer": "ipython3",
   "version": "3.6.4"
  }
 },
 "nbformat": 4,
 "nbformat_minor": 2
}
