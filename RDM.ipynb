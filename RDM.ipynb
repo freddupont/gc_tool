{
 "cells": [
  {
   "cell_type": "markdown",
   "metadata": {},
   "source": [
    "# Calculs de RDM simples"
   ]
  },
  {
   "cell_type": "code",
   "execution_count": 1,
   "metadata": {},
   "outputs": [],
   "source": [
    "from ipywidgets import interact, widgets\n",
    "from pprint import pprint\n",
    "from IPython.display import HTML\n",
    "from scipy.interpolate import interp1d\n",
    "import matplotlib.pyplot as plt\n",
    "import numpy as np"
   ]
  },
  {
   "cell_type": "code",
   "execution_count": 2,
   "metadata": {},
   "outputs": [
    {
     "data": {
      "text/html": [
       "<script>\n",
       "code_show=true; \n",
       "function code_toggle() {\n",
       " if (code_show){\n",
       " $('div.input').hide();\n",
       " } else {\n",
       " $('div.input').show();\n",
       " }\n",
       " code_show = !code_show\n",
       "} \n",
       "$( document ).ready(code_toggle);\n",
       "</script>\n",
       "The raw code for this IPython notebook is by default hidden for easier reading.\n",
       "To toggle on/off the raw code, click <a href=\"javascript:code_toggle()\">here</a>."
      ],
      "text/plain": [
       "<IPython.core.display.HTML object>"
      ]
     },
     "execution_count": 2,
     "metadata": {},
     "output_type": "execute_result"
    }
   ],
   "source": [
    "HTML('''<script>\n",
    "code_show=true; \n",
    "function code_toggle() {\n",
    " if (code_show){\n",
    " $('div.input').hide();\n",
    " } else {\n",
    " $('div.input').show();\n",
    " }\n",
    " code_show = !code_show\n",
    "} \n",
    "$( document ).ready(code_toggle);\n",
    "</script>\n",
    "The raw code for this IPython notebook is by default hidden for easier reading.\n",
    "To toggle on/off the raw code, click <a href=\"javascript:code_toggle()\">here</a>.''')"
   ]
  },
  {
   "cell_type": "markdown",
   "metadata": {},
   "source": [
    "## Pour une poutre recherche des valeurs extrèmes moment et effort tranchant (M,V)"
   ]
  },
  {
   "cell_type": "code",
   "execution_count": 3,
   "metadata": {},
   "outputs": [],
   "source": [
    "#definition des fonctions de bases\n",
    "def poutre_bi_articule(L,q,P):\n",
    "    R=q*L/2+P/2\n",
    "    M_max=q*L**2/8+P*L/4\n",
    "    V_max=q*L*2+P/2\n",
    "    return (locals())\n",
    "def poutre_bi_encastre(L,q,P):\n",
    "    R=q*L/2+P/2\n",
    "    M_max=q*L**2/12+P*L/8\n",
    "    V_max=q*L*2+P/2\n",
    "    return (locals())\n",
    "def poutre_porte_a_faux(L,q,P):\n",
    "    R=q*L+P\n",
    "    M_max=q*L**2/2+P*L\n",
    "    V_max=q*L*P\n",
    "    return (locals())\n"
   ]
  },
  {
   "cell_type": "code",
   "execution_count": 4,
   "metadata": {},
   "outputs": [],
   "source": [
    "def poutre(Type,L,q,P):\n",
    "    \"\"\"\n",
    "    Calcul des valeurs maximums pour différents type de poutre d'après les formules RDM de base\n",
    "    Attention aux unités elles doivent etre cohérente \n",
    "    \n",
    "    :param L: Longueur de la poutre (m)\n",
    "    :param q: charge répartie appliqué sur la poutre (kN/m)\n",
    "    :param q: charge ponctuel appliqué au point le plus défavorable (kN)\n",
    "    \n",
    "    :return: ensemble des valeurs de calcul\n",
    "    \"\"\"\n",
    "    return (Type(L,q,P))\n",
    "optiondict={\n",
    "    \"bi-encastré\":poutre_bi_encastre,\n",
    "    \"bi-articulé\":poutre_bi_articule,\n",
    "    \"porte-à-faux\":poutre_porte_a_faux\n",
    "}"
   ]
  },
  {
   "cell_type": "code",
   "execution_count": 5,
   "metadata": {},
   "outputs": [
    {
     "name": "stdout",
     "output_type": "stream",
     "text": [
      "\n",
      "    Calcul des valeurs maximums pour différents type de poutre d'après les formules RDM de base\n",
      "    Attention aux unités elles doivent etre cohérente \n",
      "    \n",
      "    :param L: Longueur de la poutre (m)\n",
      "    :param q: charge répartie appliqué sur la poutre (kN/m)\n",
      "    :param q: charge ponctuel appliqué au point le plus défavorable (kN)\n",
      "    \n",
      "    :return: ensemble des valeurs de calcul\n",
      "    \n"
     ]
    },
    {
     "data": {
      "application/vnd.jupyter.widget-view+json": {
       "model_id": "74f07559018d4a04923159f637223597",
       "version_major": 2,
       "version_minor": 0
      },
      "text/html": [
       "<p>Failed to display Jupyter Widget of type <code>interactive</code>.</p>\n",
       "<p>\n",
       "  If you're reading this message in the Jupyter Notebook or JupyterLab Notebook, it may mean\n",
       "  that the widgets JavaScript is still loading. If this message persists, it\n",
       "  likely means that the widgets JavaScript library is either not installed or\n",
       "  not enabled. See the <a href=\"https://ipywidgets.readthedocs.io/en/stable/user_install.html\">Jupyter\n",
       "  Widgets Documentation</a> for setup instructions.\n",
       "</p>\n",
       "<p>\n",
       "  If you're reading this message in another frontend (for example, a static\n",
       "  rendering on GitHub or <a href=\"https://nbviewer.jupyter.org/\">NBViewer</a>),\n",
       "  it may mean that your frontend doesn't currently support widgets.\n",
       "</p>\n"
      ],
      "text/plain": [
       "interactive(children=(Select(description='Type', options={'bi-encastré': <function poutre_bi_encastre at 0x0000000005B30488>, 'bi-articulé': <function poutre_bi_articule at 0x0000000009341510>, 'porte-à-faux': <function poutre_porte_a_faux at 0x0000000009332F28>}, value=<function poutre_bi_encastre at 0x0000000005B30488>), FloatText(value=7.5, description='L'), FloatText(value=35.0, description='q'), FloatText(value=0.0, description='P'), Output()), _dom_classes=('widget-interact',))"
      ]
     },
     "metadata": {},
     "output_type": "display_data"
    }
   ],
   "source": [
    "print (poutre.__doc__)\n",
    "a=interact(poutre,\n",
    "         Type=widgets.Select(options=optiondict),\n",
    "         L=widgets.FloatText(value=7.5),\n",
    "         q=widgets.FloatText(value=35),\n",
    "         P=widgets.FloatText(value=0)\n",
    "        )"
   ]
  },
  {
   "cell_type": "markdown",
   "metadata": {},
   "source": [
    "## Pour une dalle recherche des valeurs extrèmes moment (M,V)"
   ]
  },
  {
   "cell_type": "code",
   "execution_count": 8,
   "metadata": {},
   "outputs": [],
   "source": [
    "def dalle_Mx(Type,a,b,qs):\n",
    "    \"\"\"\n",
    "    Calcul des valeurs maximums pour différents type de dalle d'après les formules RDM de base\n",
    "    Attention aux unités elles doivent etre cohérente \n",
    "    \n",
    "    :param a: Longueur de la dalle (m)\n",
    "    :param b: Largeur de la dalle (m)\n",
    "    :param qs: charge répartie appliqué sur la poutre (kPa)\n",
    "    \n",
    "    :return: ensemble des valeurs de calcul\n",
    "    \"\"\"\n",
    "    if (b<a):\n",
    "        c=b\n",
    "        b=a\n",
    "        a=c\n",
    "    M_x=Type(b/a)*qs*a**2\n",
    "    \n",
    "    result=locals()\n",
    "    if \"c\" in result:\n",
    "        del result[\"c\"]\n",
    "    del result[\"Type\"]\n",
    "    return (result)\n",
    "\n",
    "\n",
    "key_art=[1,\n",
    "    1.1,\n",
    "    1.2,\n",
    "    1.3,\n",
    "    1.4,\n",
    "    1.5,\n",
    "    1.6,\n",
    "    1.7,\n",
    "    1.8,\n",
    "    1.9,\n",
    "    2,\n",
    "    3,\n",
    "    4,\n",
    "    5,\n",
    "    20,]\n",
    "beta_art=[\n",
    "    0.0479,\n",
    "    0.0553,\n",
    "    0.0626,\n",
    "    0.0693,\n",
    "    0.0753,\n",
    "    0.0812,\n",
    "    0.0862,\n",
    "    0.0908,\n",
    "    0.0948,\n",
    "    0.0985,\n",
    "    0.1017,\n",
    "    0.1189,\n",
    "    0.1235,\n",
    "    0.1246,\n",
    "    0.125,\n",
    "]\n",
    "\n",
    "key_enc=[\n",
    "    1,\n",
    "    1.1,\n",
    "    1.2,\n",
    "    1.3,\n",
    "    1.4,\n",
    "    1.5,\n",
    "    1.6,\n",
    "    1.7,\n",
    "    1.8,\n",
    "    1.9,\n",
    "    2,\n",
    "]\n",
    "\n",
    "beta_enc=[\n",
    "    0.0513,\n",
    "    0.0581,\n",
    "    0.0639,\n",
    "    0.0687,\n",
    "    0.0726,\n",
    "    0.0757,\n",
    "    0.0780,\n",
    "    0.0799,\n",
    "    0.0812,\n",
    "    0.0822,\n",
    "    0.0829,\n",
    "]\n",
    "\n",
    "coef_beta_art = interp1d(key_art, beta_art)\n",
    "coef_beta_enc = interp1d(key_enc, beta_enc)\n",
    "\n",
    "option_dalle={\n",
    "    \"encastré\":coef_beta_enc,\n",
    "    \"articulé\":coef_beta_art,\n",
    "}\n",
    "\n",
    "## test de la fonction d'interpolation\n",
    "\n",
    "#xnew = np.linspace(1, 2, num=41, endpoint=True)\n",
    "#plt.plot(xnew, coef_beta_art(xnew), '-',xnew, coef_beta_enc(xnew), '+',)"
   ]
  },
  {
   "cell_type": "code",
   "execution_count": 9,
   "metadata": {},
   "outputs": [
    {
     "name": "stdout",
     "output_type": "stream",
     "text": [
      "\n",
      "    Calcul des valeurs maximums pour différents type de dalle d'après les formules RDM de base\n",
      "    Attention aux unités elles doivent etre cohérente \n",
      "    \n",
      "    :param a: Longueur de la dalle (m)\n",
      "    :param b: Largeur de la dalle (m)\n",
      "    :param qs: charge répartie appliqué sur la poutre (kPa)\n",
      "    \n",
      "    :return: ensemble des valeurs de calcul\n",
      "    \n"
     ]
    },
    {
     "data": {
      "application/vnd.jupyter.widget-view+json": {
       "model_id": "07ef942042ba4834834f0b84bc892252",
       "version_major": 2,
       "version_minor": 0
      },
      "text/html": [
       "<p>Failed to display Jupyter Widget of type <code>interactive</code>.</p>\n",
       "<p>\n",
       "  If you're reading this message in the Jupyter Notebook or JupyterLab Notebook, it may mean\n",
       "  that the widgets JavaScript is still loading. If this message persists, it\n",
       "  likely means that the widgets JavaScript library is either not installed or\n",
       "  not enabled. See the <a href=\"https://ipywidgets.readthedocs.io/en/stable/user_install.html\">Jupyter\n",
       "  Widgets Documentation</a> for setup instructions.\n",
       "</p>\n",
       "<p>\n",
       "  If you're reading this message in another frontend (for example, a static\n",
       "  rendering on GitHub or <a href=\"https://nbviewer.jupyter.org/\">NBViewer</a>),\n",
       "  it may mean that your frontend doesn't currently support widgets.\n",
       "</p>\n"
      ],
      "text/plain": [
       "interactive(children=(Select(description='Type', options={'encastré': <scipy.interpolate.interpolate.interp1d object at 0x0000000009388098>, 'articulé': <scipy.interpolate.interpolate.interp1d object at 0x000000000935C5E8>}, value=<scipy.interpolate.interpolate.interp1d object at 0x0000000009388098>), FloatText(value=7.0, description='a'), FloatText(value=6.0, description='b'), FloatText(value=15.0, description='qs'), Output()), _dom_classes=('widget-interact',))"
      ]
     },
     "metadata": {},
     "output_type": "display_data"
    }
   ],
   "source": [
    "print (dalle_Mx.__doc__)\n",
    "a=interact(dalle_Mx,\n",
    "         Type=widgets.Select(options=option_dalle),\n",
    "         a=widgets.FloatText(value=7),\n",
    "         b=widgets.FloatText(value=6),\n",
    "         qs=widgets.FloatText(value=15)\n",
    "        )"
   ]
  },
  {
   "cell_type": "code",
   "execution_count": null,
   "metadata": {},
   "outputs": [],
   "source": []
  },
  {
   "cell_type": "code",
   "execution_count": null,
   "metadata": {},
   "outputs": [],
   "source": []
  }
 ],
 "metadata": {
  "kernelspec": {
   "display_name": "Python 3",
   "language": "python",
   "name": "python3"
  },
  "language_info": {
   "codemirror_mode": {
    "name": "ipython",
    "version": 3
   },
   "file_extension": ".py",
   "mimetype": "text/x-python",
   "name": "python",
   "nbconvert_exporter": "python",
   "pygments_lexer": "ipython3",
   "version": "3.6.4"
  }
 },
 "nbformat": 4,
 "nbformat_minor": 2
}
